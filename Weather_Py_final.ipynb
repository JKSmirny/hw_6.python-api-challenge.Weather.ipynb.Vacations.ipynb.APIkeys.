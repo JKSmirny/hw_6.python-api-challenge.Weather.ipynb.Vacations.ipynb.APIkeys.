{
 "cells": [
  {
   "cell_type": "markdown",
   "metadata": {},
   "source": [
    "# WeatherPy\n",
    "----\n",
    "\n",
    "#### Note\n",
    "* Instructions have been included for each segment. You do not have to follow them exactly, but they are included to help you think through the steps."
   ]
  },
  {
   "cell_type": "code",
   "execution_count": null,
   "metadata": {},
   "outputs": [],
   "source": []
  },
  {
   "cell_type": "code",
   "execution_count": 1,
   "metadata": {
    "scrolled": true
   },
   "outputs": [],
   "source": [
    "# Dependencies and Setup\n",
    "import matplotlib.pyplot as plt\n",
    "import pandas as pd\n",
    "import numpy as np\n",
    "import requests\n",
    "import time\n",
    "\n",
    "from scipy.stats import linregress \n"
   ]
  },
  {
   "cell_type": "code",
   "execution_count": 2,
   "metadata": {},
   "outputs": [],
   "source": [
    "# Import API key\n",
    "from api_keys import weather_api_key\n",
    "from api_keys import g_key\n"
   ]
  },
  {
   "cell_type": "code",
   "execution_count": 3,
   "metadata": {},
   "outputs": [
    {
     "name": "stdout",
     "output_type": "stream",
     "text": [
      "Requirement already satisfied: citipy in c:\\users\\jksmi\\anaconda3\\lib\\site-packages (0.0.5)\n",
      "Requirement already satisfied: kdtree>=0.12 in c:\\users\\jksmi\\anaconda3\\lib\\site-packages (from citipy) (0.16)\n",
      "Note: you may need to restart the kernel to use updated packages.\n"
     ]
    }
   ],
   "source": [
    "pip install citipy"
   ]
  },
  {
   "cell_type": "code",
   "execution_count": 4,
   "metadata": {},
   "outputs": [],
   "source": [
    "# Incorporated citipy to determine city based on latitude and longitude\n",
    "from citipy import citipy\n",
    "\n",
    "# Output File (CSV)\n",
    "output_data_file = \"output_data/cities.csv\"\n",
    "\n",
    "# Range of latitudes and longitudes\n",
    "lat_range = (-90, 90)\n",
    "lng_range = (-180, 180)"
   ]
  },
  {
   "cell_type": "markdown",
   "metadata": {},
   "source": [
    "## Generate Cities List"
   ]
  },
  {
   "cell_type": "code",
   "execution_count": 5,
   "metadata": {},
   "outputs": [
    {
     "name": "stdout",
     "output_type": "stream",
     "text": [
      "612\n"
     ]
    }
   ],
   "source": [
    "# List for holding lat_lngs and cities\n",
    "lat_lngs = []\n",
    "cities = []\n",
    "\n",
    "# Create a set of random lat and lng combinations\n",
    "lats = np.random.uniform(lat_range[0], lat_range[1], size=1500)\n",
    "lngs = np.random.uniform(lng_range[0], lng_range[1], size=1500)\n",
    "lat_lngs = zip(lats, lngs)\n",
    "\n",
    "# Identify nearest city for each lat, lng combination\n",
    "for lat_lng in lat_lngs:\n",
    "    city = citipy.nearest_city(lat_lng[0], lat_lng[1]).city_name\n",
    "    \n",
    "    # If the city is unique, then add it to a our cities list\n",
    "    if city not in cities:\n",
    "        cities.append(city)\n",
    "\n",
    "# Print the city count to confirm sufficient count\n",
    "print(len(cities))\n",
    "#print(cities)"
   ]
  },
  {
   "cell_type": "code",
   "execution_count": 6,
   "metadata": {},
   "outputs": [
    {
     "data": {
      "text/html": [
       "<div>\n",
       "<style scoped>\n",
       "    .dataframe tbody tr th:only-of-type {\n",
       "        vertical-align: middle;\n",
       "    }\n",
       "\n",
       "    .dataframe tbody tr th {\n",
       "        vertical-align: top;\n",
       "    }\n",
       "\n",
       "    .dataframe thead th {\n",
       "        text-align: right;\n",
       "    }\n",
       "</style>\n",
       "<table border=\"1\" class=\"dataframe\">\n",
       "  <thead>\n",
       "    <tr style=\"text-align: right;\">\n",
       "      <th></th>\n",
       "      <th>0</th>\n",
       "    </tr>\n",
       "  </thead>\n",
       "  <tbody>\n",
       "    <tr>\n",
       "      <th>0</th>\n",
       "      <td>sol-iletsk</td>\n",
       "    </tr>\n",
       "    <tr>\n",
       "      <th>1</th>\n",
       "      <td>okha</td>\n",
       "    </tr>\n",
       "    <tr>\n",
       "      <th>2</th>\n",
       "      <td>taolanaro</td>\n",
       "    </tr>\n",
       "    <tr>\n",
       "      <th>3</th>\n",
       "      <td>ahipara</td>\n",
       "    </tr>\n",
       "    <tr>\n",
       "      <th>4</th>\n",
       "      <td>belushya guba</td>\n",
       "    </tr>\n",
       "  </tbody>\n",
       "</table>\n",
       "</div>"
      ],
      "text/plain": [
       "               0\n",
       "0     sol-iletsk\n",
       "1           okha\n",
       "2      taolanaro\n",
       "3        ahipara\n",
       "4  belushya guba"
      ]
     },
     "execution_count": 6,
     "metadata": {},
     "output_type": "execute_result"
    }
   ],
   "source": [
    "world_cities = pd.DataFrame(cities)\n",
    "world_cities.head()"
   ]
  },
  {
   "cell_type": "markdown",
   "metadata": {},
   "source": [
    "### Perform API Calls\n",
    "* Perform a weather check on each city using a series of successive API calls.\n",
    "* Include a print log of each city as it'sbeing processed (with the city number and city name).\n",
    "\n",
    "> **HINT:** The OpenWeatherMap API only allows 60 calls per minute under their free plan. Try using `time.sleep(60)` after each set of 50 cities to avoid API errors due to large calls."
   ]
  },
  {
   "cell_type": "code",
   "execution_count": 7,
   "metadata": {},
   "outputs": [
    {
     "data": {
      "text/plain": [
       "{'coord': {'lon': 37.6156, 'lat': 55.7522},\n",
       " 'weather': [{'id': 601,\n",
       "   'main': 'Snow',\n",
       "   'description': 'snow',\n",
       "   'icon': '13n'}],\n",
       " 'base': 'stations',\n",
       " 'main': {'temp': 26.98,\n",
       "  'feels_like': 18.86,\n",
       "  'temp_min': 26.15,\n",
       "  'temp_max': 27.12,\n",
       "  'pressure': 1002,\n",
       "  'humidity': 95,\n",
       "  'sea_level': 1002,\n",
       "  'grnd_level': 983},\n",
       " 'visibility': 5991,\n",
       " 'wind': {'speed': 7.81, 'deg': 206, 'gust': 21.99},\n",
       " 'snow': {'1h': 0.56},\n",
       " 'clouds': {'all': 95},\n",
       " 'dt': 1643758729,\n",
       " 'sys': {'type': 1,\n",
       "  'id': 9027,\n",
       "  'country': 'RU',\n",
       "  'sunrise': 1643779322,\n",
       "  'sunset': 1643810659},\n",
       " 'timezone': 10800,\n",
       " 'id': 524901,\n",
       " 'name': 'Moscow',\n",
       " 'cod': 200}"
      ]
     },
     "execution_count": 7,
     "metadata": {},
     "output_type": "execute_result"
    }
   ],
   "source": [
    "base_url=\"http://api.openweathermap.org/data/2.5/weather?units=imperial&APPID=\"+weather_api_key\n",
    "city = \"moscow\"\n",
    "full_url = base_url+\"&q=\"+city\n",
    "response = requests.get(full_url).json()\n",
    "response"
   ]
  },
  {
   "cell_type": "code",
   "execution_count": 8,
   "metadata": {},
   "outputs": [
    {
     "name": "stdout",
     "output_type": "stream",
     "text": [
      "27.12\n"
     ]
    }
   ],
   "source": [
    "Temp = response['main']['temp_max']\n",
    "print(Temp)"
   ]
  },
  {
   "cell_type": "code",
   "execution_count": 9,
   "metadata": {},
   "outputs": [
    {
     "name": "stdout",
     "output_type": "stream",
     "text": [
      "-2.71\n"
     ]
    }
   ],
   "source": [
    "Temp_C = round((Temp-32)/1.8,2)\n",
    "print(Temp_C)"
   ]
  },
  {
   "cell_type": "code",
   "execution_count": null,
   "metadata": {},
   "outputs": [],
   "source": [
    "Humidity = response['main']['humidity']\n",
    "print(Humidity)"
   ]
  },
  {
   "cell_type": "code",
   "execution_count": null,
   "metadata": {},
   "outputs": [],
   "source": [
    "Clouds = response['clouds']['all']\n",
    "print(Clouds)"
   ]
  },
  {
   "cell_type": "code",
   "execution_count": null,
   "metadata": {},
   "outputs": [],
   "source": [
    "Wind_Speed = response['wind']['speed']\n",
    "print(Wind_Speed)"
   ]
  },
  {
   "cell_type": "code",
   "execution_count": null,
   "metadata": {},
   "outputs": [],
   "source": [
    "Date = response['dt']\n",
    "print(Date)"
   ]
  },
  {
   "cell_type": "code",
   "execution_count": null,
   "metadata": {},
   "outputs": [],
   "source": [
    "Country = response['sys']['country']\n",
    "print(Country)"
   ]
  },
  {
   "cell_type": "code",
   "execution_count": null,
   "metadata": {},
   "outputs": [],
   "source": [
    "Latitude = response['coord']['lat']\n",
    "print(Latitude)"
   ]
  },
  {
   "cell_type": "code",
   "execution_count": null,
   "metadata": {},
   "outputs": [],
   "source": [
    "Longitude = response['coord']['lon']\n",
    "print(Longitude)"
   ]
  },
  {
   "cell_type": "code",
   "execution_count": null,
   "metadata": {},
   "outputs": [],
   "source": [
    "response.keys()\n",
    "response"
   ]
  },
  {
   "cell_type": "code",
   "execution_count": null,
   "metadata": {},
   "outputs": [],
   "source": [
    "weather_Moscow = {\"Temperature(F)\": Temp, \"Temperature(C)\": Temp_C, \"Humidity\": Humidity, \"Cloudiness\": Clouds, \"Wind Speed\": Wind_Speed,\n",
    "                 \"Country\": Country, \"Date\": Date, \"Longitude\": Longitude, \"Latitude\": Latitude}\n",
    "weather_Moscow"
   ]
  },
  {
   "cell_type": "code",
   "execution_count": 10,
   "metadata": {},
   "outputs": [
    {
     "name": "stdout",
     "output_type": "stream",
     "text": [
      "sol-iletsk found\n",
      "okha found\n",
      "City not found. Skipping..\n",
      "ahipara found\n",
      "City not found. Skipping..\n",
      "rikitea found\n",
      "hobart found\n",
      "hermanus found\n",
      "alta floresta found\n",
      "kumla found\n",
      "vaini found\n",
      "nuuk found\n",
      "ushuaia found\n",
      "saskylakh found\n",
      "qaanaaq found\n",
      "butaritari found\n",
      "bereda found\n",
      "tahoua found\n",
      "hokitika found\n",
      "kodiak found\n",
      "gharghoda found\n",
      "City not found. Skipping..\n",
      "carnarvon found\n",
      "solnechnyy found\n",
      "hilo found\n",
      "bredasdorp found\n",
      "mormugao found\n",
      "erenhot found\n",
      "yelovo found\n",
      "upernavik found\n",
      "City not found. Skipping..\n",
      "bambous virieux found\n",
      "henties bay found\n",
      "gouyave found\n",
      "keti bandar found\n",
      "mawlaik found\n",
      "kaitangata found\n",
      "saint george found\n",
      "coihaique found\n",
      "katherine found\n",
      "chuy found\n",
      "kosh-agach found\n",
      "bluff found\n",
      "touros found\n",
      "punta arenas found\n",
      "cape town found\n",
      "saint-georges found\n",
      "meadow lake found\n",
      "sao filipe found\n",
      "cayenne found\n",
      "avarua found\n",
      "exu found\n",
      "jamestown found\n",
      "vila franca do campo found\n",
      "ponta do sol found\n",
      "busselton found\n",
      "luderitz found\n",
      "cherskiy found\n",
      "hithadhoo found\n",
      "weymouth found\n",
      "thompson found\n",
      "arraial do cabo found\n",
      "qui nhon found\n",
      "san cristobal found\n",
      "mataura found\n",
      "severo-kurilsk found\n",
      "City not found. Skipping..\n",
      "airai found\n",
      "nikolskoye found\n",
      "mar del plata found\n",
      "novoagansk found\n",
      "santa cruz del sur found\n",
      "rawah found\n",
      "orlik found\n",
      "atar found\n",
      "kruisfontein found\n",
      "norman wells found\n",
      "jacqueville found\n",
      "manggar found\n",
      "hasaki found\n",
      "vanimo found\n",
      "kargasok found\n",
      "albany found\n",
      "los llanos de aridane found\n",
      "City not found. Skipping..\n",
      "launceston found\n",
      "havelock found\n",
      "corinto found\n",
      "monticello found\n",
      "tasiilaq found\n",
      "nizhniy odes found\n",
      "lebu found\n",
      "kapaa found\n",
      "tuktoyaktuk found\n",
      "abu zabad found\n",
      "ghatanji found\n",
      "zhoucheng found\n",
      "viedma found\n",
      "kununurra found\n",
      "georgetown found\n",
      "pevek found\n",
      "brigham city found\n",
      "yinchuan found\n",
      "narsaq found\n",
      "eldoret found\n",
      "City not found. Skipping..\n",
      "stornoway found\n",
      "roald found\n",
      "kharan found\n",
      "portland found\n",
      "bathsheba found\n",
      "road town found\n",
      "laguna found\n",
      "aksu found\n",
      "kamenka found\n",
      "new norfolk found\n",
      "codrington found\n",
      "bethel found\n",
      "constitucion found\n",
      "kavaratti found\n",
      "emerald found\n",
      "City not found. Skipping..\n",
      "pinheiro machado found\n",
      "port alfred found\n",
      "camocim found\n",
      "taoudenni found\n",
      "hue found\n",
      "myre found\n",
      "east london found\n",
      "iqaluit found\n",
      "richards bay found\n",
      "meulaboh found\n",
      "khatanga found\n",
      "ribeira grande found\n",
      "vestmannaeyjar found\n",
      "provideniya found\n",
      "morgan city found\n",
      "elliot found\n",
      "chalakudi found\n",
      "barrow found\n",
      "miraflores found\n",
      "hagere hiywet found\n",
      "yulara found\n",
      "bonavista found\n",
      "grindavik found\n",
      "zhigansk found\n",
      "port saint john found\n",
      "bengkulu found\n",
      "City not found. Skipping..\n",
      "sitka found\n",
      "diu found\n",
      "manbij found\n",
      "City not found. Skipping..\n",
      "saldanha found\n",
      "makakilo city found\n",
      "lorengau found\n",
      "haines junction found\n",
      "talnakh found\n",
      "mahebourg found\n",
      "lavrentiya found\n",
      "bucerias found\n",
      "faya found\n",
      "puerto ayora found\n",
      "mayo found\n",
      "ostrovnoy found\n",
      "mercedes found\n",
      "shingu found\n",
      "yellowknife found\n",
      "broome found\n",
      "yatou found\n",
      "carahue found\n",
      "vestmanna found\n",
      "katsuura found\n",
      "City not found. Skipping..\n",
      "dumas found\n",
      "san quintin found\n",
      "kavieng found\n",
      "atuona found\n",
      "tecoanapa found\n",
      "City not found. Skipping..\n",
      "barabai found\n",
      "berlevag found\n",
      "rajakhera found\n",
      "ternate found\n",
      "sisimiut found\n",
      "City not found. Skipping..\n",
      "talaya found\n",
      "san patricio found\n",
      "paita found\n",
      "sao joao da barra found\n",
      "dingle found\n",
      "asyut found\n",
      "toamasina found\n",
      "kaputa found\n",
      "waipawa found\n",
      "City not found. Skipping..\n",
      "aklavik found\n",
      "oum hadjer found\n",
      "basqal found\n",
      "jaca found\n",
      "dori found\n",
      "tambopata found\n",
      "nouadhibou found\n",
      "codajas found\n",
      "cuiluan found\n",
      "saint-philippe found\n",
      "aktau found\n",
      "kirksville found\n",
      "tsaratanana found\n",
      "naze found\n",
      "turukhansk found\n",
      "tabou found\n",
      "klaksvik found\n",
      "amapa found\n",
      "City not found. Skipping..\n",
      "mugur-aksy found\n",
      "ponnani found\n",
      "pasaje found\n",
      "castro found\n",
      "kutum found\n",
      "victoria found\n",
      "pemangkat found\n",
      "hwange found\n",
      "mehamn found\n",
      "nishihara found\n",
      "margate found\n",
      "boguchany found\n",
      "lompoc found\n",
      "jati found\n",
      "dzaoudzi found\n",
      "port elizabeth found\n",
      "ilulissat found\n",
      "roma found\n",
      "nhulunbuy found\n",
      "falam found\n",
      "gull lake found\n",
      "tiksi found\n",
      "poum found\n",
      "City not found. Skipping..\n",
      "City not found. Skipping..\n",
      "samarai found\n",
      "baruun-urt found\n",
      "slavyanka found\n",
      "paka found\n",
      "marienburg found\n",
      "maniitsoq found\n",
      "sola found\n",
      "vila found\n",
      "barranca found\n",
      "hofn found\n",
      "tolyatti found\n",
      "baoying found\n",
      "okhotsk found\n",
      "alofi found\n",
      "City not found. Skipping..\n",
      "bestobe found\n",
      "chokurdakh found\n",
      "taraza found\n",
      "champerico found\n",
      "longyearbyen found\n",
      "araouane found\n",
      "eureka found\n",
      "City not found. Skipping..\n",
      "zhuhai found\n",
      "cervo found\n",
      "City not found. Skipping..\n",
      "City not found. Skipping..\n",
      "goregaon found\n",
      "koumac found\n",
      "sorong found\n",
      "weingarten found\n",
      "mackay found\n",
      "lasa found\n",
      "souillac found\n",
      "vao found\n",
      "harper found\n",
      "ambilobe found\n",
      "porto santo found\n",
      "camacha found\n",
      "lata found\n",
      "atikokan found\n",
      "huilong found\n",
      "potenza found\n",
      "koundara found\n",
      "madimba found\n",
      "fortuna foothills found\n",
      "talara found\n",
      "moerai found\n",
      "tyrma found\n",
      "tura found\n",
      "yambio found\n",
      "jacareacanga found\n",
      "baza found\n",
      "City not found. Skipping..\n",
      "batagay-alyta found\n",
      "alingsas found\n",
      "angoche found\n",
      "krasnozerskoye found\n",
      "seoul found\n",
      "sinnamary found\n",
      "kijang found\n",
      "altamira found\n",
      "gatton found\n",
      "zadar found\n",
      "City not found. Skipping..\n",
      "peniche found\n",
      "aparecida do taboado found\n",
      "cao bang found\n",
      "avera found\n",
      "yerbogachen found\n",
      "uglovskoye found\n",
      "kuito found\n",
      "charters towers found\n",
      "novikovo found\n",
      "contai found\n",
      "shahrud found\n",
      "ixtapa found\n",
      "bam found\n",
      "burnie found\n",
      "damavand found\n",
      "pangnirtung found\n",
      "petropavlovsk-kamchatskiy found\n",
      "soyo found\n",
      "husavik found\n",
      "botshabelo found\n",
      "City not found. Skipping..\n",
      "tchibanga found\n",
      "ancud found\n",
      "beauceville found\n",
      "yima found\n",
      "kantunilkin found\n",
      "torbay found\n",
      "bambanglipuro found\n",
      "esperance found\n",
      "tigil found\n",
      "poltavka found\n",
      "City not found. Skipping..\n",
      "bundaberg found\n",
      "mitsamiouli found\n",
      "port-gentil found\n",
      "lota found\n",
      "kahului found\n",
      "busayra found\n",
      "namibe found\n",
      "fairbanks found\n",
      "westport found\n",
      "sand springs found\n",
      "prince rupert found\n",
      "la ronge found\n",
      "urambo found\n",
      "alyangula found\n",
      "koslan found\n",
      "constantine found\n",
      "City not found. Skipping..\n",
      "cabo san lucas found\n",
      "bodden town found\n",
      "voyvozh found\n",
      "gushikawa found\n",
      "City not found. Skipping..\n",
      "egvekinot found\n",
      "hammerfest found\n",
      "bubaque found\n",
      "dikson found\n",
      "treinta y tres found\n",
      "yarim found\n",
      "duluth found\n",
      "cockburn town found\n",
      "promyshlennyy found\n",
      "steamboat springs found\n",
      "hovd found\n",
      "walvis bay found\n",
      "dire dawa found\n",
      "nisia floresta found\n",
      "port macquarie found\n",
      "sept-iles found\n",
      "chipinge found\n",
      "lukovetskiy found\n",
      "hobyo found\n",
      "terrace bay found\n",
      "akyab found\n",
      "quito found\n",
      "vagur found\n",
      "inuvik found\n",
      "havre-saint-pierre found\n",
      "carutapera found\n",
      "candolim found\n",
      "bilma found\n",
      "nome found\n",
      "sioux lookout found\n",
      "City not found. Skipping..\n",
      "tezpur found\n",
      "praia found\n",
      "City not found. Skipping..\n",
      "marawi found\n",
      "coahuayana found\n",
      "dauphin found\n",
      "shizuishan found\n",
      "qixia found\n",
      "dulmen found\n",
      "albanel found\n",
      "port hardy found\n",
      "kerrobert found\n",
      "alirajpur found\n",
      "albertville found\n",
      "mount gambier found\n",
      "faanui found\n",
      "semey found\n",
      "timizart found\n",
      "palmer found\n",
      "hamilton found\n",
      "benguela found\n",
      "merritt found\n",
      "kondagaon found\n",
      "abay found\n",
      "buenos aires found\n",
      "paraiso found\n",
      "saint stephen found\n",
      "honningsvag found\n",
      "cidreira found\n",
      "barma found\n",
      "nieuw amsterdam found\n",
      "gat found\n",
      "City not found. Skipping..\n",
      "hambantota found\n",
      "churapcha found\n",
      "udachnyy found\n",
      "kirakira found\n",
      "halifax found\n",
      "santiago found\n",
      "ati found\n",
      "City not found. Skipping..\n",
      "City not found. Skipping..\n",
      "holme found\n",
      "smithers found\n",
      "srednekolymsk found\n",
      "tres picos found\n",
      "atambua found\n",
      "quatre cocos found\n",
      "maues found\n",
      "high level found\n",
      "saint-francois found\n",
      "beni found\n",
      "kumertau found\n",
      "gorin found\n",
      "vardo found\n",
      "mendota found\n",
      "praia da vitoria found\n",
      "chinsali found\n",
      "menongue found\n",
      "ugoofaaru found\n",
      "raga found\n",
      "luau found\n",
      "sakakah found\n",
      "aswan found\n",
      "necochea found\n",
      "shangzhi found\n",
      "luanda found\n",
      "jinchang found\n",
      "nador found\n",
      "raymondville found\n",
      "City not found. Skipping..\n",
      "caucaia found\n",
      "caucel found\n",
      "tual found\n",
      "kapuskasing found\n",
      "thinadhoo found\n",
      "asau found\n",
      "pitkyaranta found\n",
      "severo-yeniseyskiy found\n",
      "burgeo found\n",
      "perbaungan found\n",
      "City not found. Skipping..\n",
      "bria found\n",
      "benalla found\n",
      "kloulklubed found\n",
      "leh found\n",
      "mudanjiang found\n",
      "skibbereen found\n",
      "zhanakorgan found\n",
      "nakambala found\n",
      "coolum beach found\n",
      "mayya found\n",
      "tsiroanomandidy found\n",
      "debre birhan found\n",
      "City not found. Skipping..\n",
      "northam found\n",
      "vondrozo found\n",
      "pierre found\n",
      "tucson found\n",
      "City not found. Skipping..\n",
      "City not found. Skipping..\n",
      "awbari found\n",
      "City not found. Skipping..\n",
      "khani found\n",
      "nioro found\n",
      "City not found. Skipping..\n",
      "narrabri found\n",
      "sechura found\n",
      "City not found. Skipping..\n",
      "areka found\n",
      "buseresere found\n",
      "padang found\n",
      "kamaishi found\n",
      "foz found\n",
      "lahad datu found\n",
      "ukiah found\n",
      "City not found. Skipping..\n",
      "celina found\n"
     ]
    },
    {
     "name": "stdout",
     "output_type": "stream",
     "text": [
      "hailar found\n",
      "mahanoro found\n",
      "pontes e lacerda found\n",
      "altay found\n",
      "anadyr found\n",
      "bosaso found\n",
      "saint joseph found\n",
      "mitu found\n",
      "pisco found\n",
      "lamu found\n",
      "natal found\n",
      "qasigiannguit found\n",
      "khorol found\n",
      "ikalamavony found\n",
      "mackenzie found\n",
      "lebedinyy found\n",
      "port blair found\n",
      "zhaotong found\n",
      "salalah found\n",
      "kiama found\n",
      "tumaco found\n",
      "clifton found\n",
      "jutai found\n",
      "marsh harbour found\n",
      "City not found. Skipping..\n",
      "cotonou found\n",
      "nanortalik found\n",
      "tiznit found\n",
      "zomba found\n",
      "banjar found\n",
      "tagusao found\n",
      "yar-sale found\n",
      "el alto found\n",
      "tuskegee found\n",
      "saint-pierre found\n",
      "mazarron found\n",
      "ravne found\n",
      "kalmunai found\n",
      "flinders found\n",
      "helong found\n",
      "City not found. Skipping..\n",
      "City not found. Skipping..\n",
      "coquimbo found\n",
      "bosconia found\n",
      "itoman found\n",
      "chanika found\n",
      "linda found\n",
      "candido mendes found\n",
      "chengde found\n",
      "southbridge found\n",
      "City not found. Skipping..\n",
      "neiafu found\n",
      "lagoa found\n",
      "hudson bay found\n",
      "geraldton found\n",
      "segou found\n",
      "aykhal found\n",
      "katobu found\n",
      "mosquera found\n",
      "macas found\n",
      "lowicz found\n",
      "imbituba found\n",
      "balozi found\n",
      "pacific grove found\n",
      "kungurtug found\n",
      "City not found. Skipping..\n",
      "shenjiamen found\n",
      "prieska found\n",
      "karratha found\n",
      "christchurch found\n",
      "longhua found\n",
      "butwal found\n",
      "saravena found\n",
      "panaba found\n",
      "aksarka found\n",
      "linares found\n",
      "brae found\n",
      "lodja found\n",
      "edd found\n",
      "broken hill found\n",
      "nizwa found\n",
      "belousovka found\n",
      "rio branco found\n",
      "naryan-mar found\n",
      "tygda found\n",
      "kyshtovka found\n",
      "neuquen found\n",
      "cabra found\n",
      "rawson found\n",
      "clyde river found\n",
      "visnes found\n",
      "City not found. Skipping..\n",
      "bilibino found\n",
      "santa cruz found\n",
      "juneau found\n",
      "potosi found\n",
      "guerrero negro found\n",
      "conceicao do araguaia found\n",
      "vostok found\n",
      "copiapo found\n",
      "lalganj found\n",
      "morondava found\n",
      "namatanai found\n",
      "nau found\n"
     ]
    }
   ],
   "source": [
    "# Loop through the list of cities and perform a request for data on each\n",
    "weather_py = []\n",
    "\n",
    "base_url=\"http://api.openweathermap.org/data/2.5/weather?units=imperial&APPID=\"+weather_api_key\n",
    "\n",
    "for city in cities:\n",
    "   # time.sleep(60)\n",
    "    try:\n",
    "        full_url = base_url+\"&q=\"+city\n",
    "        response = requests.get(full_url).json()\n",
    "        temp = response['main']['temp']\n",
    "        humidity = response['main']['humidity']\n",
    "        clouds = response['clouds']['all']\n",
    "        wind_speed = response['wind']['speed']\n",
    "        country = response['sys']['country']    \n",
    "        date = response['dt']\n",
    "        longitude = response['coord']['lon']\n",
    "        latitude = response['coord']['lat']\n",
    "        weather_dict = {\"City\": city, \"Temperature\": temp, \"Humidity\": humidity, \"Cloudiness\": clouds, \"wind_speed\": wind_speed,\n",
    "                        \"Date\": date,\"Country\": country,  \"Country\": country,  \"Longitude\": longitude, \"Latitude\": latitude}\n",
    "        weather_py.append(weather_dict)   \n",
    "        print(city + \" found\") \n",
    "    except:\n",
    "        print(\"City not found. Skipping..\") \n",
    "\n",
    "#{'cod': 429, 'message': 'Your account is temporary blocked due to exceeding of requests limitation of your subscription type.} \n",
    "#{Please choose the proper subscription http://openweathermap.org/price'}        "
   ]
  },
  {
   "cell_type": "code",
   "execution_count": 11,
   "metadata": {
    "scrolled": true
   },
   "outputs": [
    {
     "data": {
      "text/html": [
       "<div>\n",
       "<style scoped>\n",
       "    .dataframe tbody tr th:only-of-type {\n",
       "        vertical-align: middle;\n",
       "    }\n",
       "\n",
       "    .dataframe tbody tr th {\n",
       "        vertical-align: top;\n",
       "    }\n",
       "\n",
       "    .dataframe thead th {\n",
       "        text-align: right;\n",
       "    }\n",
       "</style>\n",
       "<table border=\"1\" class=\"dataframe\">\n",
       "  <thead>\n",
       "    <tr style=\"text-align: right;\">\n",
       "      <th></th>\n",
       "      <th>City</th>\n",
       "      <th>Temperature</th>\n",
       "      <th>Humidity</th>\n",
       "      <th>Cloudiness</th>\n",
       "      <th>wind_speed</th>\n",
       "      <th>Date</th>\n",
       "      <th>Country</th>\n",
       "      <th>Longitude</th>\n",
       "      <th>Latitude</th>\n",
       "    </tr>\n",
       "  </thead>\n",
       "  <tbody>\n",
       "    <tr>\n",
       "      <th>0</th>\n",
       "      <td>sol-iletsk</td>\n",
       "      <td>28.92</td>\n",
       "      <td>98</td>\n",
       "      <td>100</td>\n",
       "      <td>9.86</td>\n",
       "      <td>1643759269</td>\n",
       "      <td>RU</td>\n",
       "      <td>54.9918</td>\n",
       "      <td>51.1631</td>\n",
       "    </tr>\n",
       "    <tr>\n",
       "      <th>1</th>\n",
       "      <td>okha</td>\n",
       "      <td>1.08</td>\n",
       "      <td>90</td>\n",
       "      <td>92</td>\n",
       "      <td>21.09</td>\n",
       "      <td>1643759270</td>\n",
       "      <td>RU</td>\n",
       "      <td>142.9478</td>\n",
       "      <td>53.5739</td>\n",
       "    </tr>\n",
       "    <tr>\n",
       "      <th>2</th>\n",
       "      <td>ahipara</td>\n",
       "      <td>75.79</td>\n",
       "      <td>65</td>\n",
       "      <td>100</td>\n",
       "      <td>15.66</td>\n",
       "      <td>1643759270</td>\n",
       "      <td>NZ</td>\n",
       "      <td>173.1667</td>\n",
       "      <td>-35.1667</td>\n",
       "    </tr>\n",
       "    <tr>\n",
       "      <th>3</th>\n",
       "      <td>rikitea</td>\n",
       "      <td>78.22</td>\n",
       "      <td>70</td>\n",
       "      <td>89</td>\n",
       "      <td>6.04</td>\n",
       "      <td>1643759072</td>\n",
       "      <td>PF</td>\n",
       "      <td>-134.9692</td>\n",
       "      <td>-23.1203</td>\n",
       "    </tr>\n",
       "    <tr>\n",
       "      <th>4</th>\n",
       "      <td>hobart</td>\n",
       "      <td>58.69</td>\n",
       "      <td>47</td>\n",
       "      <td>75</td>\n",
       "      <td>1.99</td>\n",
       "      <td>1643759197</td>\n",
       "      <td>AU</td>\n",
       "      <td>147.3294</td>\n",
       "      <td>-42.8794</td>\n",
       "    </tr>\n",
       "  </tbody>\n",
       "</table>\n",
       "</div>"
      ],
      "text/plain": [
       "         City  Temperature  Humidity  Cloudiness  wind_speed        Date  \\\n",
       "0  sol-iletsk        28.92        98         100        9.86  1643759269   \n",
       "1        okha         1.08        90          92       21.09  1643759270   \n",
       "2     ahipara        75.79        65         100       15.66  1643759270   \n",
       "3     rikitea        78.22        70          89        6.04  1643759072   \n",
       "4      hobart        58.69        47          75        1.99  1643759197   \n",
       "\n",
       "  Country  Longitude  Latitude  \n",
       "0      RU    54.9918   51.1631  \n",
       "1      RU   142.9478   53.5739  \n",
       "2      NZ   173.1667  -35.1667  \n",
       "3      PF  -134.9692  -23.1203  \n",
       "4      AU   147.3294  -42.8794  "
      ]
     },
     "execution_count": 11,
     "metadata": {},
     "output_type": "execute_result"
    }
   ],
   "source": [
    "city_weather= pd.DataFrame(weather_py)\n",
    "city_weather.head()"
   ]
  },
  {
   "cell_type": "markdown",
   "metadata": {},
   "source": [
    "### Convert Raw Data to DataFrame\n",
    "* Export the city data into a .csv.\n",
    "* Display the DataFrame"
   ]
  },
  {
   "cell_type": "code",
   "execution_count": 13,
   "metadata": {},
   "outputs": [],
   "source": [
    "city_weather.to_csv(\"city_weather.csv\")"
   ]
  },
  {
   "cell_type": "markdown",
   "metadata": {},
   "source": [
    "## Inspect the data and remove the cities where the humidity > 100%.\n",
    "----\n",
    "Skip this step if there are no cities that have humidity > 100%. "
   ]
  },
  {
   "cell_type": "code",
   "execution_count": 14,
   "metadata": {},
   "outputs": [
    {
     "data": {
      "text/plain": [
       "Int64Index([], dtype='int64')"
      ]
     },
     "execution_count": 14,
     "metadata": {},
     "output_type": "execute_result"
    }
   ],
   "source": [
    "#  Get the indices of cities that have humidity over 100%.\n",
    "city_weather[city_weather[\"Humidity\"]> 100]. index"
   ]
  },
  {
   "cell_type": "code",
   "execution_count": 15,
   "metadata": {},
   "outputs": [],
   "source": [
    "# Make a new DataFrame equal to the city data to drop all humidity outliers by index.\n",
    "# Passing \"inplace=False\" will make a copy of the city_data DataFrame, which we call \"clean_city_data\".\n"
   ]
  },
  {
   "cell_type": "markdown",
   "metadata": {},
   "source": [
    "## Plotting the Data\n",
    "* Use proper labeling of the plots using plot titles (including date of analysis) and axes labels.\n",
    "* Save the plotted figures as .pngs."
   ]
  },
  {
   "cell_type": "markdown",
   "metadata": {},
   "source": [
    "## Latitude vs. Temperature Plot"
   ]
  },
  {
   "cell_type": "code",
   "execution_count": 16,
   "metadata": {
    "scrolled": true
   },
   "outputs": [
    {
     "data": {
      "image/png": "[encoded data removed]",
      "text/plain": [
       "<Figure size 432x288 with 1 Axes>"
      ]
     },
     "metadata": {
      "needs_background": "light"
     },
     "output_type": "display_data"
    }
   ],
   "source": [
    "\n",
    "\n",
    "plt.scatter(city_weather[\"Latitude\"], city_weather[\"Temperature\"], marker = \"o\", facecolors = \"red\")\n",
    "plt.xlabel(\"Latitude\")\n",
    "plt.ylabel(\"Temperature\")\n",
    "plt.title(\"Latitude vs. Temperature Plot\", fontsize = 16, fontweight = \"bold\", color = \"blue\")\n",
    "plt.grid()\n",
    "plt.show()"
   ]
  },
  {
   "cell_type": "markdown",
   "metadata": {},
   "source": [
    "## Latitude vs. Humidity Plot"
   ]
  },
  {
   "cell_type": "code",
   "execution_count": 17,
   "metadata": {},
   "outputs": [
    {
     "data": {
      "image/png": "[encoded data removed]",
      "text/plain": [
       "<Figure size 432x288 with 1 Axes>"
      ]
     },
     "metadata": {
      "needs_background": "light"
     },
     "output_type": "display_data"
    }
   ],
   "source": [
    "plt.scatter(city_weather[\"Latitude\"], city_weather[\"Humidity\"], marker = \"o\", facecolors = \"red\")\n",
    "plt.xlabel(\"Latitude\")\n",
    "plt.ylabel(\"Humidity\")\n",
    "plt.title(\"Latitude vs. Humidity Plot\", fontsize = 16, fontweight = \"bold\", color = \"blue\")\n",
    "plt.grid()\n",
    "plt.show()"
   ]
  },
  {
   "cell_type": "markdown",
   "metadata": {},
   "source": [
    "## Latitude vs. Cloudiness Plot"
   ]
  },
  {
   "cell_type": "code",
   "execution_count": 18,
   "metadata": {},
   "outputs": [
    {
     "data": {
      "image/png": "[encoded data removed]",
      "text/plain": [
       "<Figure size 432x288 with 1 Axes>"
      ]
     },
     "metadata": {
      "needs_background": "light"
     },
     "output_type": "display_data"
    }
   ],
   "source": [
    "plt.scatter(city_weather[\"Latitude\"], city_weather[\"Cloudiness\"], marker = \"o\", facecolors = \"red\")\n",
    "plt.xlabel(\"Latitude\")\n",
    "plt.ylabel(\"Cloudiness\")\n",
    "plt.title(\"Latitude vs. Cloudiness Plot\", fontsize = 16, fontweight = \"bold\", color = \"blue\")\n",
    "plt.grid()\n",
    "plt.show()"
   ]
  },
  {
   "cell_type": "markdown",
   "metadata": {},
   "source": [
    "## Latitude vs. Wind Speed Plot"
   ]
  },
  {
   "cell_type": "code",
   "execution_count": 19,
   "metadata": {},
   "outputs": [
    {
     "data": {
      "image/png": "[encoded data removed]",
      "text/plain": [
       "<Figure size 432x288 with 1 Axes>"
      ]
     },
     "metadata": {
      "needs_background": "light"
     },
     "output_type": "display_data"
    }
   ],
   "source": [
    "plt.scatter(city_weather[\"Latitude\"], city_weather[\"wind_speed\"], marker = \"o\", facecolors = \"red\")\n",
    "plt.xlabel(\"Latitude\")\n",
    "plt.ylabel(\"Wind Speed\")\n",
    "plt.title(\"Latitude vs. Wind Speed Plot\", fontsize = 16, fontweight = \"bold\", color = \"blue\")\n",
    "plt.grid()\n",
    "plt.show()"
   ]
  },
  {
   "cell_type": "code",
   "execution_count": 37,
   "metadata": {},
   "outputs": [],
   "source": [
    "from scipy.stats import linregress"
   ]
  },
  {
   "cell_type": "markdown",
   "metadata": {},
   "source": [
    "## Linear Regression"
   ]
  },
  {
   "cell_type": "markdown",
   "metadata": {},
   "source": [
    "####  Northern Hemisphere - Max Temp vs. Latitude Linear Regression"
   ]
  },
  {
   "cell_type": "code",
   "execution_count": 38,
   "metadata": {},
   "outputs": [
    {
     "data": {
      "text/html": [
       "<div>\n",
       "<style scoped>\n",
       "    .dataframe tbody tr th:only-of-type {\n",
       "        vertical-align: middle;\n",
       "    }\n",
       "\n",
       "    .dataframe tbody tr th {\n",
       "        vertical-align: top;\n",
       "    }\n",
       "\n",
       "    .dataframe thead th {\n",
       "        text-align: right;\n",
       "    }\n",
       "</style>\n",
       "<table border=\"1\" class=\"dataframe\">\n",
       "  <thead>\n",
       "    <tr style=\"text-align: right;\">\n",
       "      <th></th>\n",
       "      <th>City</th>\n",
       "      <th>Temperature</th>\n",
       "      <th>Humidity</th>\n",
       "      <th>Cloudiness</th>\n",
       "      <th>wind_speed</th>\n",
       "      <th>Date</th>\n",
       "      <th>Country</th>\n",
       "      <th>Longitude</th>\n",
       "      <th>Latitude</th>\n",
       "    </tr>\n",
       "  </thead>\n",
       "  <tbody>\n",
       "    <tr>\n",
       "      <th>0</th>\n",
       "      <td>sol-iletsk</td>\n",
       "      <td>28.92</td>\n",
       "      <td>98</td>\n",
       "      <td>100</td>\n",
       "      <td>9.86</td>\n",
       "      <td>1643759269</td>\n",
       "      <td>RU</td>\n",
       "      <td>54.9918</td>\n",
       "      <td>51.1631</td>\n",
       "    </tr>\n",
       "    <tr>\n",
       "      <th>1</th>\n",
       "      <td>okha</td>\n",
       "      <td>1.08</td>\n",
       "      <td>90</td>\n",
       "      <td>92</td>\n",
       "      <td>21.09</td>\n",
       "      <td>1643759270</td>\n",
       "      <td>RU</td>\n",
       "      <td>142.9478</td>\n",
       "      <td>53.5739</td>\n",
       "    </tr>\n",
       "    <tr>\n",
       "      <th>7</th>\n",
       "      <td>kumla</td>\n",
       "      <td>24.26</td>\n",
       "      <td>80</td>\n",
       "      <td>75</td>\n",
       "      <td>10.36</td>\n",
       "      <td>1643759271</td>\n",
       "      <td>SE</td>\n",
       "      <td>15.1434</td>\n",
       "      <td>59.1277</td>\n",
       "    </tr>\n",
       "    <tr>\n",
       "      <th>9</th>\n",
       "      <td>nuuk</td>\n",
       "      <td>9.21</td>\n",
       "      <td>85</td>\n",
       "      <td>75</td>\n",
       "      <td>8.05</td>\n",
       "      <td>1643759271</td>\n",
       "      <td>GL</td>\n",
       "      <td>-51.7216</td>\n",
       "      <td>64.1835</td>\n",
       "    </tr>\n",
       "    <tr>\n",
       "      <th>11</th>\n",
       "      <td>saskylakh</td>\n",
       "      <td>-28.10</td>\n",
       "      <td>100</td>\n",
       "      <td>52</td>\n",
       "      <td>1.77</td>\n",
       "      <td>1643759272</td>\n",
       "      <td>RU</td>\n",
       "      <td>114.0833</td>\n",
       "      <td>71.9167</td>\n",
       "    </tr>\n",
       "    <tr>\n",
       "      <th>...</th>\n",
       "      <td>...</td>\n",
       "      <td>...</td>\n",
       "      <td>...</td>\n",
       "      <td>...</td>\n",
       "      <td>...</td>\n",
       "      <td>...</td>\n",
       "      <td>...</td>\n",
       "      <td>...</td>\n",
       "      <td>...</td>\n",
       "    </tr>\n",
       "    <tr>\n",
       "      <th>555</th>\n",
       "      <td>juneau</td>\n",
       "      <td>23.14</td>\n",
       "      <td>66</td>\n",
       "      <td>100</td>\n",
       "      <td>6.91</td>\n",
       "      <td>1643759404</td>\n",
       "      <td>US</td>\n",
       "      <td>-134.4197</td>\n",
       "      <td>58.3019</td>\n",
       "    </tr>\n",
       "    <tr>\n",
       "      <th>557</th>\n",
       "      <td>guerrero negro</td>\n",
       "      <td>62.46</td>\n",
       "      <td>65</td>\n",
       "      <td>99</td>\n",
       "      <td>14.03</td>\n",
       "      <td>1643759327</td>\n",
       "      <td>MX</td>\n",
       "      <td>-114.0611</td>\n",
       "      <td>27.9769</td>\n",
       "    </tr>\n",
       "    <tr>\n",
       "      <th>559</th>\n",
       "      <td>vostok</td>\n",
       "      <td>-1.44</td>\n",
       "      <td>94</td>\n",
       "      <td>100</td>\n",
       "      <td>4.14</td>\n",
       "      <td>1643759405</td>\n",
       "      <td>RU</td>\n",
       "      <td>135.8833</td>\n",
       "      <td>46.4856</td>\n",
       "    </tr>\n",
       "    <tr>\n",
       "      <th>561</th>\n",
       "      <td>lalganj</td>\n",
       "      <td>48.15</td>\n",
       "      <td>75</td>\n",
       "      <td>0</td>\n",
       "      <td>3.20</td>\n",
       "      <td>1643759405</td>\n",
       "      <td>IN</td>\n",
       "      <td>85.1833</td>\n",
       "      <td>25.8667</td>\n",
       "    </tr>\n",
       "    <tr>\n",
       "      <th>564</th>\n",
       "      <td>nau</td>\n",
       "      <td>37.99</td>\n",
       "      <td>41</td>\n",
       "      <td>100</td>\n",
       "      <td>7.36</td>\n",
       "      <td>1643759406</td>\n",
       "      <td>TJ</td>\n",
       "      <td>69.3686</td>\n",
       "      <td>40.1525</td>\n",
       "    </tr>\n",
       "  </tbody>\n",
       "</table>\n",
       "<p>389 rows × 9 columns</p>\n",
       "</div>"
      ],
      "text/plain": [
       "               City  Temperature  Humidity  Cloudiness  wind_speed  \\\n",
       "0        sol-iletsk        28.92        98         100        9.86   \n",
       "1              okha         1.08        90          92       21.09   \n",
       "7             kumla        24.26        80          75       10.36   \n",
       "9              nuuk         9.21        85          75        8.05   \n",
       "11        saskylakh       -28.10       100          52        1.77   \n",
       "..              ...          ...       ...         ...         ...   \n",
       "555          juneau        23.14        66         100        6.91   \n",
       "557  guerrero negro        62.46        65          99       14.03   \n",
       "559          vostok        -1.44        94         100        4.14   \n",
       "561         lalganj        48.15        75           0        3.20   \n",
       "564             nau        37.99        41         100        7.36   \n",
       "\n",
       "           Date Country  Longitude  Latitude  \n",
       "0    1643759269      RU    54.9918   51.1631  \n",
       "1    1643759270      RU   142.9478   53.5739  \n",
       "7    1643759271      SE    15.1434   59.1277  \n",
       "9    1643759271      GL   -51.7216   64.1835  \n",
       "11   1643759272      RU   114.0833   71.9167  \n",
       "..          ...     ...        ...       ...  \n",
       "555  1643759404      US  -134.4197   58.3019  \n",
       "557  1643759327      MX  -114.0611   27.9769  \n",
       "559  1643759405      RU   135.8833   46.4856  \n",
       "561  1643759405      IN    85.1833   25.8667  \n",
       "564  1643759406      TJ    69.3686   40.1525  \n",
       "\n",
       "[389 rows x 9 columns]"
      ]
     },
     "execution_count": 38,
     "metadata": {},
     "output_type": "execute_result"
    }
   ],
   "source": [
    "Northern_Hemisphere = city_weather[city_weather[\"Latitude\"]> 0]\n",
    "Northern_Hemisphere"
   ]
  },
  {
   "cell_type": "code",
   "execution_count": 45,
   "metadata": {},
   "outputs": [
    {
     "data": {
      "image/png": "[encoded data removed]",
      "text/plain": [
       "<Figure size 432x288 with 1 Axes>"
      ]
     },
     "metadata": {
      "needs_background": "light"
     },
     "output_type": "display_data"
    }
   ],
   "source": [
    "x_values = Northern_Hemisphere[\"Latitude\"]\n",
    "y_values = Northern_Hemisphere[\"Temperature\"]\n",
    "\n",
    "(slope, intercept, rvalue, pvalue, stderr) = linregress(x_values, y_values)\n",
    "\n",
    "plt.scatter(x_values, y_values)\n",
    "plt.xlabel(' Latitude', color= \"red\")\n",
    "plt.ylabel('Temperature', color= \"red\")\n",
    "\n",
    "#line = slope*(['Weight (g)'])+ intercept\n",
    "regress_values = x_values * slope + intercept\n",
    "\n",
    "line_eq = \"y = \" + str(round(slope,2)) + \"x + \" + str(round(intercept,2))\n",
    "plt.annotate(line_eq,(17,37),fontsize=15,color=\"blue\")\n",
    "plt.plot(x_values,regress_values,\"r-\")\n",
    "plt.title(\"Maximum Temperature vs. Latitude\", fontsize = 16, fontweight = \"bold\", color = \"blue\")\n",
    "plt.annotate(line_eq,(6,10),fontsize=15,color=\"red\")\n",
    "plt.savefig('scatter_linear')\n",
    "plt.grid()\n",
    "plt.show()"
   ]
  },
  {
   "cell_type": "markdown",
   "metadata": {},
   "source": [
    "####  Southern Hemisphere - Max Temp vs. Latitude Linear Regression"
   ]
  },
  {
   "cell_type": "code",
   "execution_count": 28,
   "metadata": {},
   "outputs": [
    {
     "data": {
      "text/html": [
       "<div>\n",
       "<style scoped>\n",
       "    .dataframe tbody tr th:only-of-type {\n",
       "        vertical-align: middle;\n",
       "    }\n",
       "\n",
       "    .dataframe tbody tr th {\n",
       "        vertical-align: top;\n",
       "    }\n",
       "\n",
       "    .dataframe thead th {\n",
       "        text-align: right;\n",
       "    }\n",
       "</style>\n",
       "<table border=\"1\" class=\"dataframe\">\n",
       "  <thead>\n",
       "    <tr style=\"text-align: right;\">\n",
       "      <th></th>\n",
       "      <th>City</th>\n",
       "      <th>Temperature</th>\n",
       "      <th>Humidity</th>\n",
       "      <th>Cloudiness</th>\n",
       "      <th>wind_speed</th>\n",
       "      <th>Date</th>\n",
       "      <th>Country</th>\n",
       "      <th>Longitude</th>\n",
       "      <th>Latitude</th>\n",
       "    </tr>\n",
       "  </thead>\n",
       "  <tbody>\n",
       "    <tr>\n",
       "      <th>2</th>\n",
       "      <td>ahipara</td>\n",
       "      <td>75.79</td>\n",
       "      <td>65</td>\n",
       "      <td>100</td>\n",
       "      <td>15.66</td>\n",
       "      <td>1643759270</td>\n",
       "      <td>NZ</td>\n",
       "      <td>173.1667</td>\n",
       "      <td>-35.1667</td>\n",
       "    </tr>\n",
       "    <tr>\n",
       "      <th>3</th>\n",
       "      <td>rikitea</td>\n",
       "      <td>78.22</td>\n",
       "      <td>70</td>\n",
       "      <td>89</td>\n",
       "      <td>6.04</td>\n",
       "      <td>1643759072</td>\n",
       "      <td>PF</td>\n",
       "      <td>-134.9692</td>\n",
       "      <td>-23.1203</td>\n",
       "    </tr>\n",
       "    <tr>\n",
       "      <th>4</th>\n",
       "      <td>hobart</td>\n",
       "      <td>58.69</td>\n",
       "      <td>47</td>\n",
       "      <td>75</td>\n",
       "      <td>1.99</td>\n",
       "      <td>1643759197</td>\n",
       "      <td>AU</td>\n",
       "      <td>147.3294</td>\n",
       "      <td>-42.8794</td>\n",
       "    </tr>\n",
       "    <tr>\n",
       "      <th>5</th>\n",
       "      <td>hermanus</td>\n",
       "      <td>68.90</td>\n",
       "      <td>80</td>\n",
       "      <td>12</td>\n",
       "      <td>5.23</td>\n",
       "      <td>1643759270</td>\n",
       "      <td>ZA</td>\n",
       "      <td>19.2345</td>\n",
       "      <td>-34.4187</td>\n",
       "    </tr>\n",
       "    <tr>\n",
       "      <th>6</th>\n",
       "      <td>alta floresta</td>\n",
       "      <td>70.63</td>\n",
       "      <td>96</td>\n",
       "      <td>56</td>\n",
       "      <td>1.90</td>\n",
       "      <td>1643759271</td>\n",
       "      <td>BR</td>\n",
       "      <td>-56.0861</td>\n",
       "      <td>-9.8756</td>\n",
       "    </tr>\n",
       "  </tbody>\n",
       "</table>\n",
       "</div>"
      ],
      "text/plain": [
       "            City  Temperature  Humidity  Cloudiness  wind_speed        Date  \\\n",
       "2        ahipara        75.79        65         100       15.66  1643759270   \n",
       "3        rikitea        78.22        70          89        6.04  1643759072   \n",
       "4         hobart        58.69        47          75        1.99  1643759197   \n",
       "5       hermanus        68.90        80          12        5.23  1643759270   \n",
       "6  alta floresta        70.63        96          56        1.90  1643759271   \n",
       "\n",
       "  Country  Longitude  Latitude  \n",
       "2      NZ   173.1667  -35.1667  \n",
       "3      PF  -134.9692  -23.1203  \n",
       "4      AU   147.3294  -42.8794  \n",
       "5      ZA    19.2345  -34.4187  \n",
       "6      BR   -56.0861   -9.8756  "
      ]
     },
     "execution_count": 28,
     "metadata": {},
     "output_type": "execute_result"
    }
   ],
   "source": [
    "Southern_Hemisphere = city_weather[city_weather[\"Latitude\"]<= 0]\n",
    "Southern_Hemisphere.head()"
   ]
  },
  {
   "cell_type": "code",
   "execution_count": 47,
   "metadata": {},
   "outputs": [
    {
     "data": {
      "image/png": "[encoded data removed]",
      "text/plain": [
       "<Figure size 432x288 with 1 Axes>"
      ]
     },
     "metadata": {
      "needs_background": "light"
     },
     "output_type": "display_data"
    }
   ],
   "source": [
    "x_values = Southern_Hemisphere[\"Latitude\"]\n",
    "y_values = Southern_Hemisphere[\"Temperature\"]\n",
    "\n",
    "(slope, intercept, rvalue, pvalue, stderr) = linregress(x_values, y_values)\n",
    "\n",
    "plt.scatter(x_values, y_values)\n",
    "plt.xlabel(' Latitude', color= \"red\")\n",
    "plt.ylabel('Temperature', color= \"red\")\n",
    "\n",
    "#line = slope*(['Weight (g)'])+ intercept\n",
    "regress_values = x_values * slope + intercept\n",
    "\n",
    "line_eq = \"y = \" + str(round(slope,2)) + \"x + \" + str(round(intercept,2))\n",
    "plt.annotate(line_eq,(17,37),fontsize=15,color=\"blue\")\n",
    "plt.plot(x_values,regress_values,\"r-\")\n",
    "plt.title(\"Maximum Temperature vs. Latitude\", fontsize = 16, fontweight = \"bold\", color = \"blue\")\n",
    "plt.annotate(line_eq,(6,10),fontsize=15,color=\"red\")\n",
    "plt.savefig('scatter_linear')\n",
    "plt.grid()\n",
    "plt.show()"
   ]
  },
  {
   "cell_type": "markdown",
   "metadata": {},
   "source": [
    "####  Northern Hemisphere - Humidity (%) vs. Latitude Linear Regression"
   ]
  },
  {
   "cell_type": "code",
   "execution_count": 48,
   "metadata": {},
   "outputs": [
    {
     "data": {
      "text/html": [
       "<div>\n",
       "<style scoped>\n",
       "    .dataframe tbody tr th:only-of-type {\n",
       "        vertical-align: middle;\n",
       "    }\n",
       "\n",
       "    .dataframe tbody tr th {\n",
       "        vertical-align: top;\n",
       "    }\n",
       "\n",
       "    .dataframe thead th {\n",
       "        text-align: right;\n",
       "    }\n",
       "</style>\n",
       "<table border=\"1\" class=\"dataframe\">\n",
       "  <thead>\n",
       "    <tr style=\"text-align: right;\">\n",
       "      <th></th>\n",
       "      <th>City</th>\n",
       "      <th>Temperature</th>\n",
       "      <th>Humidity</th>\n",
       "      <th>Cloudiness</th>\n",
       "      <th>wind_speed</th>\n",
       "      <th>Date</th>\n",
       "      <th>Country</th>\n",
       "      <th>Longitude</th>\n",
       "      <th>Latitude</th>\n",
       "    </tr>\n",
       "  </thead>\n",
       "  <tbody>\n",
       "    <tr>\n",
       "      <th>0</th>\n",
       "      <td>sol-iletsk</td>\n",
       "      <td>28.92</td>\n",
       "      <td>98</td>\n",
       "      <td>100</td>\n",
       "      <td>9.86</td>\n",
       "      <td>1643759269</td>\n",
       "      <td>RU</td>\n",
       "      <td>54.9918</td>\n",
       "      <td>51.1631</td>\n",
       "    </tr>\n",
       "    <tr>\n",
       "      <th>1</th>\n",
       "      <td>okha</td>\n",
       "      <td>1.08</td>\n",
       "      <td>90</td>\n",
       "      <td>92</td>\n",
       "      <td>21.09</td>\n",
       "      <td>1643759270</td>\n",
       "      <td>RU</td>\n",
       "      <td>142.9478</td>\n",
       "      <td>53.5739</td>\n",
       "    </tr>\n",
       "    <tr>\n",
       "      <th>7</th>\n",
       "      <td>kumla</td>\n",
       "      <td>24.26</td>\n",
       "      <td>80</td>\n",
       "      <td>75</td>\n",
       "      <td>10.36</td>\n",
       "      <td>1643759271</td>\n",
       "      <td>SE</td>\n",
       "      <td>15.1434</td>\n",
       "      <td>59.1277</td>\n",
       "    </tr>\n",
       "    <tr>\n",
       "      <th>9</th>\n",
       "      <td>nuuk</td>\n",
       "      <td>9.21</td>\n",
       "      <td>85</td>\n",
       "      <td>75</td>\n",
       "      <td>8.05</td>\n",
       "      <td>1643759271</td>\n",
       "      <td>GL</td>\n",
       "      <td>-51.7216</td>\n",
       "      <td>64.1835</td>\n",
       "    </tr>\n",
       "    <tr>\n",
       "      <th>11</th>\n",
       "      <td>saskylakh</td>\n",
       "      <td>-28.10</td>\n",
       "      <td>100</td>\n",
       "      <td>52</td>\n",
       "      <td>1.77</td>\n",
       "      <td>1643759272</td>\n",
       "      <td>RU</td>\n",
       "      <td>114.0833</td>\n",
       "      <td>71.9167</td>\n",
       "    </tr>\n",
       "    <tr>\n",
       "      <th>...</th>\n",
       "      <td>...</td>\n",
       "      <td>...</td>\n",
       "      <td>...</td>\n",
       "      <td>...</td>\n",
       "      <td>...</td>\n",
       "      <td>...</td>\n",
       "      <td>...</td>\n",
       "      <td>...</td>\n",
       "      <td>...</td>\n",
       "    </tr>\n",
       "    <tr>\n",
       "      <th>555</th>\n",
       "      <td>juneau</td>\n",
       "      <td>23.14</td>\n",
       "      <td>66</td>\n",
       "      <td>100</td>\n",
       "      <td>6.91</td>\n",
       "      <td>1643759404</td>\n",
       "      <td>US</td>\n",
       "      <td>-134.4197</td>\n",
       "      <td>58.3019</td>\n",
       "    </tr>\n",
       "    <tr>\n",
       "      <th>557</th>\n",
       "      <td>guerrero negro</td>\n",
       "      <td>62.46</td>\n",
       "      <td>65</td>\n",
       "      <td>99</td>\n",
       "      <td>14.03</td>\n",
       "      <td>1643759327</td>\n",
       "      <td>MX</td>\n",
       "      <td>-114.0611</td>\n",
       "      <td>27.9769</td>\n",
       "    </tr>\n",
       "    <tr>\n",
       "      <th>559</th>\n",
       "      <td>vostok</td>\n",
       "      <td>-1.44</td>\n",
       "      <td>94</td>\n",
       "      <td>100</td>\n",
       "      <td>4.14</td>\n",
       "      <td>1643759405</td>\n",
       "      <td>RU</td>\n",
       "      <td>135.8833</td>\n",
       "      <td>46.4856</td>\n",
       "    </tr>\n",
       "    <tr>\n",
       "      <th>561</th>\n",
       "      <td>lalganj</td>\n",
       "      <td>48.15</td>\n",
       "      <td>75</td>\n",
       "      <td>0</td>\n",
       "      <td>3.20</td>\n",
       "      <td>1643759405</td>\n",
       "      <td>IN</td>\n",
       "      <td>85.1833</td>\n",
       "      <td>25.8667</td>\n",
       "    </tr>\n",
       "    <tr>\n",
       "      <th>564</th>\n",
       "      <td>nau</td>\n",
       "      <td>37.99</td>\n",
       "      <td>41</td>\n",
       "      <td>100</td>\n",
       "      <td>7.36</td>\n",
       "      <td>1643759406</td>\n",
       "      <td>TJ</td>\n",
       "      <td>69.3686</td>\n",
       "      <td>40.1525</td>\n",
       "    </tr>\n",
       "  </tbody>\n",
       "</table>\n",
       "<p>389 rows × 9 columns</p>\n",
       "</div>"
      ],
      "text/plain": [
       "               City  Temperature  Humidity  Cloudiness  wind_speed  \\\n",
       "0        sol-iletsk        28.92        98         100        9.86   \n",
       "1              okha         1.08        90          92       21.09   \n",
       "7             kumla        24.26        80          75       10.36   \n",
       "9              nuuk         9.21        85          75        8.05   \n",
       "11        saskylakh       -28.10       100          52        1.77   \n",
       "..              ...          ...       ...         ...         ...   \n",
       "555          juneau        23.14        66         100        6.91   \n",
       "557  guerrero negro        62.46        65          99       14.03   \n",
       "559          vostok        -1.44        94         100        4.14   \n",
       "561         lalganj        48.15        75           0        3.20   \n",
       "564             nau        37.99        41         100        7.36   \n",
       "\n",
       "           Date Country  Longitude  Latitude  \n",
       "0    1643759269      RU    54.9918   51.1631  \n",
       "1    1643759270      RU   142.9478   53.5739  \n",
       "7    1643759271      SE    15.1434   59.1277  \n",
       "9    1643759271      GL   -51.7216   64.1835  \n",
       "11   1643759272      RU   114.0833   71.9167  \n",
       "..          ...     ...        ...       ...  \n",
       "555  1643759404      US  -134.4197   58.3019  \n",
       "557  1643759327      MX  -114.0611   27.9769  \n",
       "559  1643759405      RU   135.8833   46.4856  \n",
       "561  1643759405      IN    85.1833   25.8667  \n",
       "564  1643759406      TJ    69.3686   40.1525  \n",
       "\n",
       "[389 rows x 9 columns]"
      ]
     },
     "execution_count": 48,
     "metadata": {},
     "output_type": "execute_result"
    }
   ],
   "source": [
    "Northern_Hemisphere = city_weather[city_weather[\"Latitude\"]> 0]\n",
    "Northern_Hemisphere"
   ]
  },
  {
   "cell_type": "code",
   "execution_count": 54,
   "metadata": {},
   "outputs": [
    {
     "data": {
      "image/png": "[encoded data removed]",
      "text/plain": [
       "<Figure size 432x288 with 1 Axes>"
      ]
     },
     "metadata": {
      "needs_background": "light"
     },
     "output_type": "display_data"
    }
   ],
   "source": [
    "x_values = Northern_Hemisphere[\"Latitude\"]\n",
    "y_values = Northern_Hemisphere[\"Humidity\"]\n",
    "\n",
    "(slope, intercept, rvalue, pvalue, stderr) = linregress(x_values, y_values)\n",
    "\n",
    "plt.scatter(x_values, y_values)\n",
    "plt.xlabel(' Latitude', color= \"red\")\n",
    "plt.ylabel('Humidity', color= \"red\")\n",
    "\n",
    "#line = slope*(['Weight (g)'])+ intercept\n",
    "regress_values = x_values * slope + intercept\n",
    "\n",
    "line_eq = \"y = \" + str(round(slope,2)) + \"x + \" + str(round(intercept,2))\n",
    "plt.annotate(line_eq,(17,37),fontsize=15,color=\"blue\")\n",
    "plt.plot(x_values,regress_values,\"r-\")\n",
    "plt.title(\"Humidity vs. Latitude\", fontsize = 16, fontweight = \"bold\", color = \"blue\")\n",
    "plt.annotate(line_eq,(6,10),fontsize=15,color=\"red\")\n",
    "plt.grid()\n",
    "plt.show()"
   ]
  },
  {
   "cell_type": "markdown",
   "metadata": {},
   "source": [
    "####  Southern Hemisphere - Humidity (%) vs. Latitude Linear Regression"
   ]
  },
  {
   "cell_type": "code",
   "execution_count": null,
   "metadata": {},
   "outputs": [],
   "source": [
    "Southern_Hemisphere = city_weather[city_weather[\"Latitude\"]<= 0]\n",
    "Southern_Hemisphere.head()"
   ]
  },
  {
   "cell_type": "code",
   "execution_count": 56,
   "metadata": {},
   "outputs": [
    {
     "data": {
      "image/png": "[encoded data removed]",
      "text/plain": [
       "<Figure size 432x288 with 1 Axes>"
      ]
     },
     "metadata": {
      "needs_background": "light"
     },
     "output_type": "display_data"
    }
   ],
   "source": [
    "x_values = Southern_Hemisphere[\"Latitude\"]\n",
    "y_values = Southern_Hemisphere[\"Humidity\"]\n",
    "\n",
    "(slope, intercept, rvalue, pvalue, stderr) = linregress(x_values, y_values)\n",
    "\n",
    "plt.scatter(x_values, y_values)\n",
    "plt.xlabel(' Latitude', color= \"red\")\n",
    "plt.ylabel('Humidity', color= \"red\")\n",
    "\n",
    "#line = slope*(['Weight (g)'])+ intercept\n",
    "regress_values = x_values * slope + intercept\n",
    "\n",
    "line_eq = \"y = \" + str(round(slope,2)) + \"x + \" + str(round(intercept,2))\n",
    "plt.annotate(line_eq,(17,37),fontsize=15,color=\"blue\")\n",
    "plt.plot(x_values,regress_values,\"r-\")\n",
    "plt.title(\"Humidity vs. Latitude\", fontsize = 16, fontweight = \"bold\", color = \"blue\")\n",
    "plt.annotate(line_eq,(6,10),fontsize=15,color=\"red\")\n",
    "plt.grid()\n",
    "plt.show()"
   ]
  },
  {
   "cell_type": "markdown",
   "metadata": {},
   "source": [
    "####  Northern Hemisphere - Cloudiness (%) vs. Latitude Linear Regression"
   ]
  },
  {
   "cell_type": "code",
   "execution_count": null,
   "metadata": {},
   "outputs": [],
   "source": [
    "Northern_Hemisphere = city_weather[city_weather[\"Latitude\"]> 0]\n",
    "Northern_Hemisphere"
   ]
  },
  {
   "cell_type": "code",
   "execution_count": 57,
   "metadata": {},
   "outputs": [
    {
     "data": {
      "image/png": "[encoded data removed]",
      "text/plain": [
       "<Figure size 432x288 with 1 Axes>"
      ]
     },
     "metadata": {
      "needs_background": "light"
     },
     "output_type": "display_data"
    }
   ],
   "source": [
    "x_values = Northern_Hemisphere[\"Latitude\"]\n",
    "y_values = Northern_Hemisphere[\"Cloudiness\"]\n",
    "\n",
    "(slope, intercept, rvalue, pvalue, stderr) = linregress(x_values, y_values)\n",
    "\n",
    "plt.scatter(x_values, y_values)\n",
    "plt.xlabel(' Latitude', color= \"red\")\n",
    "plt.ylabel('Humidity', color= \"red\")\n",
    "\n",
    "#line = slope*(['Weight (g)'])+ intercept\n",
    "regress_values = x_values * slope + intercept\n",
    "\n",
    "line_eq = \"y = \" + str(round(slope,2)) + \"x + \" + str(round(intercept,2))\n",
    "plt.annotate(line_eq,(17,37),fontsize=15,color=\"blue\")\n",
    "plt.plot(x_values,regress_values,\"r-\")\n",
    "plt.title(\"Humidity vs. Latitude\", fontsize = 16, fontweight = \"bold\", color = \"blue\")\n",
    "plt.annotate(line_eq,(6,10),fontsize=15,color=\"red\")\n",
    "plt.grid()\n",
    "plt.show()"
   ]
  },
  {
   "cell_type": "markdown",
   "metadata": {},
   "source": [
    "####  Southern Hemisphere - Cloudiness (%) vs. Latitude Linear Regression"
   ]
  },
  {
   "cell_type": "code",
   "execution_count": null,
   "metadata": {},
   "outputs": [],
   "source": [
    "Southern_Hemisphere = city_weather[city_weather[\"Latitude\"]<= 0]\n",
    "Southern_Hemisphere.head()"
   ]
  },
  {
   "cell_type": "code",
   "execution_count": 58,
   "metadata": {},
   "outputs": [
    {
     "data": {
      "image/png": "[encoded data removed]",
      "text/plain": [
       "<Figure size 432x288 with 1 Axes>"
      ]
     },
     "metadata": {
      "needs_background": "light"
     },
     "output_type": "display_data"
    }
   ],
   "source": [
    "x_values = Southern_Hemisphere[\"Latitude\"]\n",
    "y_values = Southern_Hemisphere[\"Cloudiness\"]\n",
    "\n",
    "(slope, intercept, rvalue, pvalue, stderr) = linregress(x_values, y_values)\n",
    "\n",
    "plt.scatter(x_values, y_values)\n",
    "plt.xlabel(' Latitude', color= \"red\")\n",
    "plt.ylabel('Humidity', color= \"red\")\n",
    "\n",
    "#line = slope*(['Weight (g)'])+ intercept\n",
    "regress_values = x_values * slope + intercept\n",
    "\n",
    "line_eq = \"y = \" + str(round(slope,2)) + \"x + \" + str(round(intercept,2))\n",
    "plt.annotate(line_eq,(17,37),fontsize=15,color=\"blue\")\n",
    "plt.plot(x_values,regress_values,\"r-\")\n",
    "plt.title(\"Humidity vs. Latitude\", fontsize = 16, fontweight = \"bold\", color = \"blue\")\n",
    "plt.annotate(line_eq,(6,10),fontsize=15,color=\"red\")\n",
    "plt.grid()\n",
    "plt.show()"
   ]
  },
  {
   "cell_type": "markdown",
   "metadata": {},
   "source": [
    "####  Northern Hemisphere - Wind Speed (mph) vs. Latitude Linear Regression"
   ]
  },
  {
   "cell_type": "code",
   "execution_count": null,
   "metadata": {},
   "outputs": [],
   "source": [
    "Northern_Hemisphere = city_weather[city_weather[\"Latitude\"]> 0]\n",
    "Northern_Hemisphere"
   ]
  },
  {
   "cell_type": "code",
   "execution_count": 59,
   "metadata": {},
   "outputs": [
    {
     "data": {
      "image/png": "[encoded data removed]",
      "text/plain": [
       "<Figure size 432x288 with 1 Axes>"
      ]
     },
     "metadata": {
      "needs_background": "light"
     },
     "output_type": "display_data"
    }
   ],
   "source": [
    "x_values = Northern_Hemisphere[\"Latitude\"]\n",
    "y_values = Northern_Hemisphere[\"wind_speed\"]\n",
    "\n",
    "(slope, intercept, rvalue, pvalue, stderr) = linregress(x_values, y_values)\n",
    "\n",
    "plt.scatter(x_values, y_values)\n",
    "plt.xlabel(' Latitude', color= \"red\")\n",
    "plt.ylabel('Humidity', color= \"red\")\n",
    "\n",
    "#line = slope*(['Weight (g)'])+ intercept\n",
    "regress_values = x_values * slope + intercept\n",
    "\n",
    "line_eq = \"y = \" + str(round(slope,2)) + \"x + \" + str(round(intercept,2))\n",
    "plt.annotate(line_eq,(17,37),fontsize=15,color=\"blue\")\n",
    "plt.plot(x_values,regress_values,\"r-\")\n",
    "plt.title(\"Humidity vs. Latitude\", fontsize = 16, fontweight = \"bold\", color = \"blue\")\n",
    "plt.annotate(line_eq,(6,10),fontsize=15,color=\"red\")\n",
    "plt.grid()\n",
    "plt.show()"
   ]
  },
  {
   "cell_type": "markdown",
   "metadata": {},
   "source": [
    "####  Southern Hemisphere - Wind Speed (mph) vs. Latitude Linear Regression"
   ]
  },
  {
   "cell_type": "code",
   "execution_count": null,
   "metadata": {},
   "outputs": [],
   "source": [
    "Southern_Hemisphere = city_weather[city_weather[\"Latitude\"]<= 0]\n",
    "Southern_Hemisphere.head()"
   ]
  },
  {
   "cell_type": "code",
   "execution_count": null,
   "metadata": {},
   "outputs": [],
   "source": [
    "corr=st.pearsonr(weight,volume)[0]\n",
    "print(f\"Southern Hemisphere - Wind Speed (mph) vs.Latitude Linear Regression {corr}\")"
   ]
  },
  {
   "cell_type": "code",
   "execution_count": 60,
   "metadata": {},
   "outputs": [
    {
     "data": {
      "image/png": "[encoded data removed]",
      "text/plain": [
       "<Figure size 432x288 with 1 Axes>"
      ]
     },
     "metadata": {
      "needs_background": "light"
     },
     "output_type": "display_data"
    }
   ],
   "source": [
    "x_values = Southern_Hemisphere[\"Latitude\"]\n",
    "y_values = Southern_Hemisphere[\"wind_speed\"]\n",
    "\n",
    "(slope, intercept, rvalue, pvalue, stderr) = linregress(x_values, y_values)\n",
    "\n",
    "plt.scatter(x_values, y_values)\n",
    "plt.xlabel(' Latitude', color= \"red\")\n",
    "plt.ylabel('Humidity', color= \"red\")\n",
    "\n",
    "#line = slope*(['Weight (g)'])+ intercept\n",
    "regress_values = x_values * slope + intercept\n",
    "\n",
    "line_eq = \"y = \" + str(round(slope,2)) + \"x + \" + str(round(intercept,2))\n",
    "plt.annotate(line_eq,(17,37),fontsize=15,color=\"blue\")\n",
    "plt.plot(x_values,regress_values,\"r-\")\n",
    "plt.title(\"Humidity vs. Latitude\", fontsize = 16, fontweight = \"bold\", color = \"blue\")\n",
    "plt.annotate(line_eq,(6,10),fontsize=15,color=\"red\")\n",
    "plt.grid()\n",
    "plt.show()"
   ]
  },
  {
   "cell_type": "code",
   "execution_count": null,
   "metadata": {},
   "outputs": [],
   "source": []
  }
 ],
 "metadata": {
  "anaconda-cloud": {},
  "kernel_info": {
   "name": "python3"
  },
  "kernelspec": {
   "display_name": "Python 3 (ipykernel)",
   "language": "python",
   "name": "python3"
  },
  "language_info": {
   "codemirror_mode": {
    "name": "ipython",
    "version": 3
   },
   "file_extension": ".py",
   "mimetype": "text/x-python",
   "name": "python",
   "nbconvert_exporter": "python",
   "pygments_lexer": "ipython3",
   "version": "3.9.7"
  },
  "latex_envs": {
   "LaTeX_envs_menu_present": true,
   "autoclose": false,
   "autocomplete": true,
   "bibliofile": "biblio.bib",
   "cite_by": "apalike",
   "current_citInitial": 1,
   "eqLabelWithNumbers": true,
   "eqNumInitial": 1,
   "hotkeys": {
    "equation": "Ctrl-E",
    "itemize": "Ctrl-I"
   },
   "labels_anchors": false,
   "latex_user_defs": false,
   "report_style_numbering": false,
   "user_envs_cfg": false
  },
  "nteract": {
   "version": "0.12.3"
  }
 },
 "nbformat": 4,
 "nbformat_minor": 2
}
